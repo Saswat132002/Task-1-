{
 "cells": [
  {
   "cell_type": "code",
   "execution_count": 1,
   "id": "5990456a",
   "metadata": {},
   "outputs": [
    {
     "name": "stdout",
     "output_type": "stream",
     "text": [
      "✅ Data cleaned successfully!\n",
      "Shape after cleaning: (2747, 24)\n",
      "Remaining null values:\n",
      " ordernumber         0\n",
      "quantityordered     0\n",
      "priceeach           0\n",
      "orderlinenumber     0\n",
      "sales               0\n",
      "orderdate           0\n",
      "status              0\n",
      "qtr_id              0\n",
      "month_id            0\n",
      "year_id             0\n",
      "productline         0\n",
      "msrp                0\n",
      "productcode         0\n",
      "customername        0\n",
      "phone               0\n",
      "addressline1        0\n",
      "city                0\n",
      "state               0\n",
      "postalcode          0\n",
      "country             0\n",
      "territory           0\n",
      "contactlastname     0\n",
      "contactfirstname    0\n",
      "dealsize            0\n",
      "dtype: int64\n"
     ]
    }
   ],
   "source": [
    "import pandas as pd\n",
    "\n",
    "# Load the dataset\n",
    "df = pd.read_csv('/Users/saswatranjannayak/Desktop/sales_data_sample.csv', encoding='latin1')\n",
    "\n",
    "# Step 1: Rename columns to lowercase and replace spaces with underscores\n",
    "df.columns = df.columns.str.strip().str.lower().str.replace(' ', '_')\n",
    "\n",
    "# Step 2: Drop column with mostly missing values\n",
    "if 'addressline2' in df.columns:\n",
    "    df.drop(columns=['addressline2'], inplace=True)\n",
    "\n",
    "# Step 3: Handle missing values\n",
    "essential_columns = ['customername', 'orderdate', 'country', 'postalcode']\n",
    "df.dropna(subset=essential_columns, inplace=True)\n",
    "\n",
    "# Fill missing values in 'state' and 'territory'\n",
    "df['state'].fillna('Unknown', inplace=True)\n",
    "df['territory'].fillna('Unknown', inplace=True)\n",
    "\n",
    "# Step 4: Remove duplicate rows\n",
    "df.drop_duplicates(inplace=True)\n",
    "\n",
    "# Step 5: Convert 'orderdate' to datetime\n",
    "df['orderdate'] = pd.to_datetime(df['orderdate'], errors='coerce')\n",
    "\n",
    "# Step 6: Standardize text columns\n",
    "df['country'] = df['country'].str.title()\n",
    "df['status'] = df['status'].str.capitalize()\n",
    "\n",
    "# Step 7: Convert 'postalcode' to string\n",
    "df['postalcode'] = df['postalcode'].astype(str)\n",
    "\n",
    "# Save cleaned data\n",
    "df.to_csv('cleaned_sales_data.csv', index=False)\n",
    "\n",
    "# Optional: Print cleaning summary\n",
    "print(\"✅ Data cleaned successfully!\")\n",
    "print(f\"Shape after cleaning: {df.shape}\")\n",
    "print(\"Remaining null values:\\n\", df.isnull().sum())\n"
   ]
  }
 ],
 "metadata": {
  "kernelspec": {
   "display_name": "base",
   "language": "python",
   "name": "python3"
  },
  "language_info": {
   "codemirror_mode": {
    "name": "ipython",
    "version": 3
   },
   "file_extension": ".py",
   "mimetype": "text/x-python",
   "name": "python",
   "nbconvert_exporter": "python",
   "pygments_lexer": "ipython3",
   "version": "3.11.7"
  }
 },
 "nbformat": 4,
 "nbformat_minor": 5
}
